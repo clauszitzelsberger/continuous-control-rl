{
 "cells": [
  {
   "cell_type": "markdown",
   "metadata": {},
   "source": [
    "# Report"
   ]
  },
  {
   "cell_type": "markdown",
   "metadata": {},
   "source": [
    "## Policy-Based Methods\n",
    "Whereas *Value-Based Methods* like Deep Q-Learning are obtaining an optimal policy $\\pi_*$ by trying to estimate the optimal action-value function, *Policy-Based Methods* directly learn the optimal policy.  \n",
    "Besides this simplification another advantage of a Policy-Based Method is the fact that it is able to handle either stochastic or continuous actions.  \n",
    "On the one hand Policy-Based Methods are using the *Monte Carlo* (MC) approach for the estimate of expected return:\n",
    "\n",
    "$ G_t = R_{t+1} + R_{t+2} + ... + R_T$, if the discount factor $\\gamma=1$\n",
    "\n",
    "As $G_t$ is estimated with the full trajectory this yields to a high *variance*, but to a low *bias*.  \n",
    "On the other hand Value-Based Methods are using the *Temporal Difference* (TD) approach to estimate the return:\n",
    "\n",
    "$ G_t = R_{t+1} + G_{t+1}$ , if $\\gamma=1$\n",
    "\n",
    "Here $G_{t+1}$ is the estimated total return an agent will obtain in the next state. As the estimate of $G_t$ is always depending on the estimate of the next state, the variance of these estimates is low but biased.  \n",
    "The pros of both methods can be combined in one single algorithm namely the Actor-Critic Method."
   ]
  },
  {
   "cell_type": "markdown",
   "metadata": {},
   "source": [
    "## Actor-Critic Methods\n",
    "In Actor-Critic Methods one uses two function approximators (usually neural networks) to learn a policy (Actor) and a value function (Critic). The process looks as follows:  \n",
    "\n",
    "1) Observe state $s$ from environment and feed into the Actor.  \n",
    "2) The output are action probabilities $\\pi(a|s;\\theta_\\pi)$. Select one action stochastically and feed back to the environment.  \n",
    "3) Observe next state $s'$ and reward $r$.  \n",
    "4) Use the tuple $(s, a, r, s')$ for the TD estimate $y=r + \\gamma V(s'; \\theta_v)$  \n",
    "5) Train the Critic by minimizing the loss $L=(y - V(s;\\theta_v)^2$.  \n",
    "6) Calculate the advantage $A(s,a) = r + \\gamma V(s'; \\theta_v) - V(s; \\theta_v)$.  \n",
    "7) Train the Actor using the advantage."
   ]
  },
  {
   "cell_type": "markdown",
   "metadata": {},
   "source": [
    "## Deep Deterministic Policy Gradient\n",
    "The following section refers to [Lillicrap et al., 2016].  \n",
    "Deep Deterministic Policy Gradient (DDPG) combines the Actor-Critic approach with Deep Q-Learning. The actor function $\\mu(s;\\theta_\\mu)$ gives the current policy. It maps states to continuous deterministic actions. The critic $Q(s,a;\\theta_q)$ on the other hand is used to calculate action values and is learned using the Bellman equation. DDPG is also using a *replay buffer* and *target networks* which already helped to improve performance for Deep Q-Learning. In a finite replay buffer tuples of $(s, a, r, s')$ are stored and then batches are sampled from this buffer to apply for network updates. This tackles the issue of correlated tuples arrised from sequentially exploring the environment. Target networks are used to decouple the TD target from the current action value when performing neutwork updates. The target network is a copy of the Actor and Critic Network which are used to calculated the target. One approach is to update the weights of the target networks $\\theta'$ with the weights $\\theta$ of the Actor and Critic network periodically. An other approach is to perform *soft updates*:\n",
    "\n",
    "$ \\theta' \\leftarrow \\tau \\theta + (1-\\tau)\\theta'$ with $\\tau \\ll 1$\n",
    "\n",
    "In order to scale features *batch normalization* is being applied. This normalizes each dimension across the samples of the minibatch. An other important issue is handling exploration. By adding a noise process $N$ an exploration policy $\\mu'$ is constructed:\n",
    "\n",
    "$\\mu'(s_t) = \\mu(s_t;\\theta_{\\mu,t})+N$\n",
    "\n",
    "The DDPG process looks as follows:  \n",
    "1) Observe state $s$ from environment and feed to Actor.  \n",
    "2) Select action $a = \\mu(s;\\theta_\\mu) + N$ and feed back to environment.  \n",
    "3) Observe next state $s'$ and reward $r$.  \n",
    "4) Store transition $(s, a, r, s')$ in replay buffer and sample random minibatch of $n$ tuples. Calculate the TD estimate \n",
    "$y = r + \\gamma Q'(s', \\mu'(s';\\theta_\\mu');\\theta_q')$  \n",
    "5) Train the Critic by minimizing the loss \n",
    "$L=\\mathbb{E} \\big[\\big(y - Q(s,a;\\theta_q)\\big)^2\\big]$  \n",
    "6) Train Actor with policy gradient \n",
    "$\\mathbb{E} \\big[\\nabla_{\\theta_\\mu} Q(s,a;\\theta_q) | s=s_t, a=\\mu(s_t;\\theta_\\mu) \\big] = \\mathbb{E} \\big[\\nabla_a Q(s,a;\\theta_q)|s=s_t,a=\\mu(s_t) \\nabla_{\\theta_\\mu} \\mu(s;\\theta_\\mu)|s=s_t\\big] $  \n",
    "7) Update both target networks using soft update\n",
    "\n",
    "As one see, this is an off-policy algorithm because the policy which is evaluated uses action $a=\\mu'(s';\\theta_\\mu')$. This is different from the policy which selects action $a = \\mu(s;\\theta_\\mu) + N$. An other interesting aspect is that the Critic network has only one output node, which is the action value given the state and the action: $Q(s,a;\\theta_q)$ This is different to Deep Q-Learning where the Q-Network is mapping values to every possible (discrete) action node."
   ]
  },
  {
   "cell_type": "code",
   "execution_count": 1,
   "metadata": {},
   "outputs": [],
   "source": [
    "!pip -q install /python"
   ]
  },
  {
   "cell_type": "code",
   "execution_count": 2,
   "metadata": {},
   "outputs": [],
   "source": [
    "import torch\n",
    "from unityagents import UnityEnvironment\n",
    "import numpy as np\n",
    "import matplotlib.pyplot as plt\n",
    "from scipy.ndimage.filters import gaussian_filter1d\n",
    "from collections import deque\n",
    "\n",
    "from agent import Agent"
   ]
  },
  {
   "cell_type": "code",
   "execution_count": 3,
   "metadata": {},
   "outputs": [],
   "source": [
    "N = 2000\n",
    "BUFFER_SIZE = int(1e7)\n",
    "BATCH_SIZE = 256\n",
    "GAMMA = .99\n",
    "TAU = 1e-3\n",
    "LEARNING_RATE_ACTOR = 1e-4\n",
    "LEARNING_RATE_CRITIC = 1e-3\n",
    "WEIGHT_DECAY = 0.0\n",
    "SEED = 2"
   ]
  },
  {
   "cell_type": "code",
   "execution_count": null,
   "metadata": {},
   "outputs": [],
   "source": [
    "def initialize_env(unity_file):\n",
    "    # Initialize the environment\n",
    "    env = UnityEnvironment(file_name=unity_file, worker_id=2)\n",
    "\n",
    "    # Get default brain\n",
    "    brain_name = env.brain_names[0]\n",
    "    brain = env.brains[brain_name]\n",
    "\n",
    "    # Get state and action spaces\n",
    "    env_info = env.reset(train_mode=True)[brain_name]\n",
    "    state_size = env_info.vector_observations.shape[1]\n",
    "    action_size = brain.vector_action_space_size\n",
    "    n_agents = len(env_info.agents)\n",
    "    \n",
    "    print('State size: ', state_size)\n",
    "    print('Action size: ', action_size)\n",
    "    print('Number of agents: ', n_agents)\n",
    "    \n",
    "    return env, brain_name, state_size, action_size, n_agents"
   ]
  },
  {
   "cell_type": "code",
   "execution_count": 4,
   "metadata": {},
   "outputs": [
    {
     "name": "stderr",
     "output_type": "stream",
     "text": [
      "INFO:unityagents:\n",
      "'Academy' started successfully!\n",
      "Unity Academy name: Academy\n",
      "        Number of Brains: 1\n",
      "        Number of External Brains : 1\n",
      "        Lesson number : 0\n",
      "        Reset Parameters :\n",
      "\t\tgoal_speed -> 1.0\n",
      "\t\tgoal_size -> 5.0\n",
      "Unity brain name: ReacherBrain\n",
      "        Number of Visual Observations (per agent): 0\n",
      "        Vector Observation space type: continuous\n",
      "        Vector Observation space size (per agent): 33\n",
      "        Number of stacked Vector Observation: 1\n",
      "        Vector Action space type: continuous\n",
      "        Vector Action space size (per agent): 4\n",
      "        Vector Action descriptions: , , , \n"
     ]
    },
    {
     "name": "stdout",
     "output_type": "stream",
     "text": [
      "State size:  33\n",
      "Action size:  4\n",
      "Number of agents:  20\n"
     ]
    }
   ],
   "source": [
    "env, brain_name, state_size, action_size, n_agents = \\\n",
    "        initialize_env('/data/Reacher_Linux_NoVis/Reacher.x86')"
   ]
  },
  {
   "cell_type": "code",
   "execution_count": 7,
   "metadata": {},
   "outputs": [],
   "source": [
    "# Initialize agent\n",
    "agent = Agent(state_size, action_size,\n",
    "              n_agents, buffer_size=BUFFER_SIZE, \n",
    "              batch_size=BATCH_SIZE, gamma=GAMMA, tau=TAU,\n",
    "              lr_a=LEARNING_RATE_ACTOR, lr_c=LEARNING_RATE_CRITIC,\n",
    "              weight_decay=WEIGHT_DECAY, random_seed=SEED)"
   ]
  },
  {
   "cell_type": "code",
   "execution_count": 11,
   "metadata": {},
   "outputs": [],
   "source": [
    "def ddpg(env, brain_name,\n",
    "         agent, n_agents,\n",
    "         n_episodes=2000, t_max=3000):\n",
    "    \"\"\"Deep Determinitic Policy Gradient.\n",
    "\n",
    "    Params\n",
    "    ======\n",
    "        env: unity environment object\n",
    "        brain_name (string): brain name of initialized environment\n",
    "        agent: initialized agent object\n",
    "        n_episodes (int): maximum number of training episodes\n",
    "        t_max (int): maximum timesteps in episode\n",
    "    \"\"\"\n",
    "    \n",
    "    scores = []\n",
    "    scores_window = deque(maxlen=100)\n",
    "    for e in range(1, n_episodes+1):\n",
    "        env_info = env.reset(train_mode=True)[brain_name]\n",
    "        state = env_info.vector_observations\n",
    "        agent.reset()\n",
    "        score = np.zeros(n_agents)\n",
    "        for _ in range(1, t_max):\n",
    "            action = agent.act(state)\n",
    "            env_info = env.step(action)[brain_name]\n",
    "            next_state = env_info.vector_observations\n",
    "            reward = env_info.rewards\n",
    "            done = env_info.local_done\n",
    "            agent.step(state, action, reward, next_state, done)\n",
    "            score += reward\n",
    "            state = next_state\n",
    "            if np.any(done):\n",
    "                break\n",
    "\n",
    "        # Relative score\n",
    "        avg_score = np.mean(score)\n",
    "        scores_window.append(avg_score)\n",
    "        scores.append(avg_score)\n",
    "\n",
    "        print('\\rEpisode {}\\tAverage Score: {:.2f}'.format(e, np.mean(scores_window)), end=\"\")\n",
    "        if e % 10 == 0:\n",
    "            print('\\rEpisode {}\\tAverage Score: {:.2f}'.format(e, np.mean(scores_window)))\n",
    "        if np.mean(scores_window)>=30.0:\n",
    "            print('\\nEnvironment solved in {:d} episodes!\\tAverage Score: {:.2f}'.format(e-100, np.mean(scores_window)))\n",
    "            torch.save(agent.actor_local.state_dict(), 'checkpoint_actor.pth')\n",
    "            torch.save(agent.critic_local.state_dict(), 'checkpoint_critic.pth')\n",
    "            break\n",
    "    return scores"
   ]
  },
  {
   "cell_type": "code",
   "execution_count": null,
   "metadata": {},
   "outputs": [],
   "source": [
    "def plot_scores(scores_dict):\n",
    "    fig = plt.figure()\n",
    "    ax = fig.add_subplot(111)\n",
    "    for key, scores in scores_dict.items():\n",
    "        scores_smoothed = gaussian_filter1d(scores, sigma=5)\n",
    "        plt.plot(np.arange(len(scores)), scores_smoothed, label=key)\n",
    "    plt.ylabel('smoothed Score')\n",
    "    plt.xlabel('Episode #')\n",
    "    plt.legend()\n",
    "    plt.show()"
   ]
  },
  {
   "cell_type": "code",
   "execution_count": 12,
   "metadata": {},
   "outputs": [
    {
     "name": "stdout",
     "output_type": "stream",
     "text": [
      "Episode 10\tAverage Score: 0.87\n",
      "Episode 20\tAverage Score: 1.10\n",
      "Episode 30\tAverage Score: 1.59\n",
      "Episode 40\tAverage Score: 2.33\n",
      "Episode 50\tAverage Score: 3.20\n",
      "Episode 60\tAverage Score: 4.54\n",
      "Episode 70\tAverage Score: 5.91\n",
      "Episode 80\tAverage Score: 7.35\n",
      "Episode 90\tAverage Score: 8.70\n",
      "Episode 100\tAverage Score: 9.90\n",
      "Episode 110\tAverage Score: 11.97\n",
      "Episode 120\tAverage Score: 14.00\n",
      "Episode 130\tAverage Score: 15.99\n",
      "Episode 140\tAverage Score: 17.88\n",
      "Episode 150\tAverage Score: 19.72\n",
      "Episode 160\tAverage Score: 21.15\n",
      "Episode 170\tAverage Score: 22.62\n",
      "Episode 180\tAverage Score: 23.91\n",
      "Episode 190\tAverage Score: 25.07\n",
      "Episode 200\tAverage Score: 26.19\n",
      "Episode 210\tAverage Score: 27.21\n",
      "Episode 220\tAverage Score: 28.31\n",
      "Episode 230\tAverage Score: 29.39\n",
      "Episode 236\tAverage Score: 30.04\n",
      "Environment solved in 236 episodes!\n"
     ]
    },
    {
     "data": {
      "image/png": "[encoded data removed]",
      "text/plain": [
       "<matplotlib.figure.Figure at 0x7f961c065fd0>"
      ]
     },
     "metadata": {
      "needs_background": "light"
     },
     "output_type": "display_data"
    }
   ],
   "source": [
    "# Train agent\n",
    "scores = ddpg(env, brain_name, agent, n_agents, n_episodes=N)\n",
    "\n",
    "plot_scores({'DDPG': scores})"
   ]
  },
  {
   "cell_type": "code",
   "execution_count": null,
   "metadata": {},
   "outputs": [],
   "source": [
    "env.close()"
   ]
  },
  {
   "cell_type": "markdown",
   "metadata": {},
   "source": [
    "## Further potentials to improvement the RL agent\n",
    "The algorithm took quite long to solve the environment. One potential option would be to reduce update frequency in order to achieve a more stable learning.  \n",
    "Other algorithms that could solve this environment are  PPO, A3C and D4PG."
   ]
  },
  {
   "cell_type": "markdown",
   "metadata": {},
   "source": [
    "## References\n",
    "- Lillicrap, T., Hunt, J., Pritzel, A., Heess, N., Erez, T., Tassa, Y., Silver, D., and Wiestra, D., Continuous Control with Deep Reinforcement Learning, arXiv:1509.02971v5 [cs.LG] 29 Feb 2016"
   ]
  }
 ],
 "metadata": {
  "kernelspec": {
   "display_name": "Python 3",
   "language": "python",
   "name": "python3"
  },
  "language_info": {
   "codemirror_mode": {
    "name": "ipython",
    "version": 3
   },
   "file_extension": ".py",
   "mimetype": "text/x-python",
   "name": "python",
   "nbconvert_exporter": "python",
   "pygments_lexer": "ipython3",
   "version": "3.6.7"
  }
 },
 "nbformat": 4,
 "nbformat_minor": 2
}
